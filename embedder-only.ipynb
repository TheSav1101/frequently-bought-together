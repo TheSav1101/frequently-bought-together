{
 "cells": [
  {
   "cell_type": "code",
   "execution_count": 9,
   "metadata": {
    "id": "nxvzxjEORdfn"
   },
   "outputs": [
    {
     "name": "stdout",
     "output_type": "stream",
     "text": [
      "loading graph data/Amazon0302.txt\n",
      "loading graph data/Amazon0312.txt\n",
      "loading graph data/Amazon0505.txt\n",
      "loading graph data/Amazon0601.txt\n",
      "loading graph data/AmazonU.txt\n",
      "finished\n"
     ]
    }
   ],
   "source": [
    "import node2vec\n",
    "import networkx as nx\n",
    "from gensim.models import Word2Vec\n",
    "import os\n",
    "\n",
    "data_dir = \"data/\"\n",
    "models_dir = \"models/\"\n",
    "\n",
    "if not os.path.exists(data_dir):\n",
    "    os.makedirs(data_dir)\n",
    "\n",
    "if not os.path.exists(models_dir):\n",
    "    os.makedirs(models_dir)\n",
    "\n",
    "files = [\"Amazon0302\", \"Amazon0312\", \"Amazon0505\", \"Amazon0601\", \"AmazonU\"]\n",
    "file_ext = \".txt\"\n",
    "\n",
    "#Grafo directed se True o uniderected se False\n",
    "directed = [True, True, True, True, False]\n",
    "\n",
    "#embedding hyperparameters\n",
    "#default = 1, 1, 10, 80\n",
    "p=1\n",
    "q=1\n",
    "num_walks=10\n",
    "walk_length=80\n",
    "\n",
    "graphs = []\n",
    "\n",
    "### LOAD GRAPHS ###\n",
    "for i in range(len(files)):\n",
    "    print(\"loading graph \" + data_dir + files[i] + file_ext)\n",
    "    if directed[i]:\n",
    "        ##genera il grafo directed utilizzando nx.DiGraph\n",
    "        graphs.append(nx.read_edgelist(data_dir + files[i] + file_ext, nodetype=int, create_using=nx.DiGraph))\n",
    "    \n",
    "    else:\n",
    "        ##genera il grafo undirected utilizzando nx.Graph\n",
    "        graphs.append(nx.read_edgelist(data_dir + files[i] + file_ext))\n",
    "\n",
    "    nx.set_edge_attributes(graphs[i], 1, name='weight')\n",
    "\n",
    "print(\"finished\")"
   ]
  },
  {
   "cell_type": "markdown",
   "metadata": {
    "id": "UvwyMMaHRdfq"
   },
   "source": [
    "Embedding using stanford's node2vec"
   ]
  },
  {
   "cell_type": "code",
   "execution_count": 10,
   "metadata": {
    "colab": {
     "base_uri": "https://localhost:8080/"
    },
    "id": "ANAuvlt2Rdfr",
    "outputId": "4e376c59-8012-4fa4-f236-6d4565f14f6f"
   },
   "outputs": [
    {
     "name": "stdout",
     "output_type": "stream",
     "text": [
      "No saved model found, generating embedding...\n",
      "Walk iteration:\n",
      "1/10\n"
     ]
    },
    {
     "ename": "KeyboardInterrupt",
     "evalue": "",
     "output_type": "error",
     "traceback": [
      "\u001b[0;31m---------------------------------------------------------------------------\u001b[0m",
      "\u001b[0;31mKeyboardInterrupt\u001b[0m                         Traceback (most recent call last)",
      "Cell \u001b[0;32mIn[10], line 13\u001b[0m\n\u001b[1;32m     11\u001b[0m G \u001b[38;5;241m=\u001b[39m node2vec\u001b[38;5;241m.\u001b[39mGraph(graphs[i], directed[i], p, q)\n\u001b[1;32m     12\u001b[0m G\u001b[38;5;241m.\u001b[39mpreprocess_transition_probs()\n\u001b[0;32m---> 13\u001b[0m walks \u001b[38;5;241m=\u001b[39m \u001b[43mG\u001b[49m\u001b[38;5;241;43m.\u001b[39;49m\u001b[43msimulate_walks\u001b[49m\u001b[43m(\u001b[49m\u001b[43mnum_walks\u001b[49m\u001b[43m,\u001b[49m\u001b[43m \u001b[49m\u001b[43mwalk_length\u001b[49m\u001b[43m)\u001b[49m\n\u001b[1;32m     14\u001b[0m walks \u001b[38;5;241m=\u001b[39m [\u001b[38;5;28mlist\u001b[39m(\u001b[38;5;28mmap\u001b[39m(\u001b[38;5;28mstr\u001b[39m, walk)) \u001b[38;5;28;01mfor\u001b[39;00m walk \u001b[38;5;129;01min\u001b[39;00m walks]\n\u001b[1;32m     15\u001b[0m model \u001b[38;5;241m=\u001b[39m Word2Vec(walks, window\u001b[38;5;241m=\u001b[39m\u001b[38;5;241m10\u001b[39m, min_count\u001b[38;5;241m=\u001b[39m\u001b[38;5;241m0\u001b[39m, sg\u001b[38;5;241m=\u001b[39m\u001b[38;5;241m1\u001b[39m, workers\u001b[38;5;241m=\u001b[39m\u001b[38;5;241m100\u001b[39m)\n",
      "File \u001b[0;32m~/learningFN/project/frequently-bought-together/node2vec.py:51\u001b[0m, in \u001b[0;36mGraph.simulate_walks\u001b[0;34m(self, num_walks, walk_length)\u001b[0m\n\u001b[1;32m     49\u001b[0m \trandom\u001b[38;5;241m.\u001b[39mshuffle(nodes)\n\u001b[1;32m     50\u001b[0m \t\u001b[38;5;28;01mfor\u001b[39;00m node \u001b[38;5;129;01min\u001b[39;00m nodes:\n\u001b[0;32m---> 51\u001b[0m \t\twalks\u001b[38;5;241m.\u001b[39mappend(\u001b[38;5;28;43mself\u001b[39;49m\u001b[38;5;241;43m.\u001b[39;49m\u001b[43mnode2vec_walk\u001b[49m\u001b[43m(\u001b[49m\u001b[43mwalk_length\u001b[49m\u001b[38;5;241;43m=\u001b[39;49m\u001b[43mwalk_length\u001b[49m\u001b[43m,\u001b[49m\u001b[43m \u001b[49m\u001b[43mstart_node\u001b[49m\u001b[38;5;241;43m=\u001b[39;49m\u001b[43mnode\u001b[49m\u001b[43m)\u001b[49m)\n\u001b[1;32m     53\u001b[0m \u001b[38;5;28;01mreturn\u001b[39;00m walks\n",
      "File \u001b[0;32m~/learningFN/project/frequently-bought-together/node2vec.py:31\u001b[0m, in \u001b[0;36mGraph.node2vec_walk\u001b[0;34m(self, walk_length, start_node)\u001b[0m\n\u001b[1;32m     29\u001b[0m \t\u001b[38;5;28;01melse\u001b[39;00m:\n\u001b[1;32m     30\u001b[0m \t\tprev \u001b[38;5;241m=\u001b[39m walk[\u001b[38;5;241m-\u001b[39m\u001b[38;5;241m2\u001b[39m]\n\u001b[0;32m---> 31\u001b[0m \t\t\u001b[38;5;28mnext\u001b[39m \u001b[38;5;241m=\u001b[39m cur_nbrs[\u001b[43malias_draw\u001b[49m\u001b[43m(\u001b[49m\u001b[43malias_edges\u001b[49m\u001b[43m[\u001b[49m\u001b[43m(\u001b[49m\u001b[43mprev\u001b[49m\u001b[43m,\u001b[49m\u001b[43m \u001b[49m\u001b[43mcur\u001b[49m\u001b[43m)\u001b[49m\u001b[43m]\u001b[49m\u001b[43m[\u001b[49m\u001b[38;5;241;43m0\u001b[39;49m\u001b[43m]\u001b[49m\u001b[43m,\u001b[49m\u001b[43m \u001b[49m\n\u001b[1;32m     32\u001b[0m \u001b[43m\t\t\t\u001b[49m\u001b[43malias_edges\u001b[49m\u001b[43m[\u001b[49m\u001b[43m(\u001b[49m\u001b[43mprev\u001b[49m\u001b[43m,\u001b[49m\u001b[43m \u001b[49m\u001b[43mcur\u001b[49m\u001b[43m)\u001b[49m\u001b[43m]\u001b[49m\u001b[43m[\u001b[49m\u001b[38;5;241;43m1\u001b[39;49m\u001b[43m]\u001b[49m\u001b[43m)\u001b[49m]\n\u001b[1;32m     33\u001b[0m \t\twalk\u001b[38;5;241m.\u001b[39mappend(\u001b[38;5;28mnext\u001b[39m)\n\u001b[1;32m     34\u001b[0m \u001b[38;5;28;01melse\u001b[39;00m:\n",
      "File \u001b[0;32m~/learningFN/project/frequently-bought-together/node2vec.py:145\u001b[0m, in \u001b[0;36malias_draw\u001b[0;34m(J, q)\u001b[0m\n\u001b[1;32m    140\u001b[0m \u001b[38;5;250m\u001b[39m\u001b[38;5;124;03m'''\u001b[39;00m\n\u001b[1;32m    141\u001b[0m \u001b[38;5;124;03mDraw sample from a non-uniform discrete distribution using alias sampling.\u001b[39;00m\n\u001b[1;32m    142\u001b[0m \u001b[38;5;124;03m'''\u001b[39;00m\n\u001b[1;32m    143\u001b[0m K \u001b[38;5;241m=\u001b[39m \u001b[38;5;28mlen\u001b[39m(J)\n\u001b[0;32m--> 145\u001b[0m kk \u001b[38;5;241m=\u001b[39m \u001b[38;5;28mint\u001b[39m(\u001b[43mnp\u001b[49m\u001b[38;5;241;43m.\u001b[39;49m\u001b[43mfloor\u001b[49m\u001b[43m(\u001b[49m\u001b[43mnp\u001b[49m\u001b[38;5;241;43m.\u001b[39;49m\u001b[43mrandom\u001b[49m\u001b[38;5;241;43m.\u001b[39;49m\u001b[43mrand\u001b[49m\u001b[43m(\u001b[49m\u001b[43m)\u001b[49m\u001b[38;5;241;43m*\u001b[39;49m\u001b[43mK\u001b[49m\u001b[43m)\u001b[49m)\n\u001b[1;32m    146\u001b[0m \u001b[38;5;28;01mif\u001b[39;00m np\u001b[38;5;241m.\u001b[39mrandom\u001b[38;5;241m.\u001b[39mrand() \u001b[38;5;241m<\u001b[39m q[kk]:\n\u001b[1;32m    147\u001b[0m     \u001b[38;5;28;01mreturn\u001b[39;00m kk\n",
      "\u001b[0;31mKeyboardInterrupt\u001b[0m: "
     ]
    }
   ],
   "source": [
    "#Author:Savoia Emanuele\n",
    "for i in range(len(graphs)):\n",
    "    filename = models_dir + files[i] + \".model\"\n",
    "    saved = False\n",
    "    if(os.path.isfile(filename)):\n",
    "      saved = True\n",
    "    if(saved):\n",
    "      print(\"Saved model found for file \" + filename)\n",
    "    else:\n",
    "      print(\"No saved model found, generating embedding...\")\n",
    "      G = node2vec.Graph(graphs[i], directed[i], p, q)\n",
    "      G.preprocess_transition_probs()\n",
    "      walks = G.simulate_walks(num_walks, walk_length)\n",
    "      walks = [list(map(str, walk)) for walk in walks]\n",
    "      model = Word2Vec(walks, window=10, min_count=0, sg=1, workers=100)\n",
    "      model.save(filename)"
   ]
  },
  {
   "cell_type": "code",
   "execution_count": null,
   "metadata": {},
   "outputs": [],
   "source": []
  }
 ],
 "metadata": {
  "colab": {
   "machine_shape": "hm",
   "provenance": []
  },
  "kernelspec": {
   "display_name": "Python 3 (ipykernel)",
   "language": "python",
   "name": "python3"
  },
  "language_info": {
   "codemirror_mode": {
    "name": "ipython",
    "version": 3
   },
   "file_extension": ".py",
   "mimetype": "text/x-python",
   "name": "python",
   "nbconvert_exporter": "python",
   "pygments_lexer": "ipython3",
   "version": "3.11.6"
  }
 },
 "nbformat": 4,
 "nbformat_minor": 4
}
