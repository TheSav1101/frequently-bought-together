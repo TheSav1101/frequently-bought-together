{
 "cells": [
  {
   "cell_type": "markdown",
   "metadata": {},
   "source": [
    "Frequently Bought Toghether Items"
   ]
  },
  {
   "cell_type": "markdown",
   "metadata": {},
   "source": [
    "Inizializzazione, parametri e altre cose che tutti devono sapere"
   ]
  },
  {
   "cell_type": "code",
   "execution_count": 5,
   "metadata": {},
   "outputs": [],
   "source": [
    "#import numpy as np\n",
    "#import matplotlib.pyplot as plt\n",
    "import networkx as nx\n",
    "import node2vec\n",
    "from gensim.models import Word2Vec\n",
    "\n",
    "#Grafo completo FBT\n",
    "full_graph = nx.Graph()\n",
    "\n",
    "#Grafo cluster selezionato\n",
    "clustered_graph = nx.Graph()\n",
    "\n",
    "#File di lettura\n",
    "#file_name = \"Amazon0302.txt\"\n",
    "file_name = \"grafo_esempio.txt\"\n",
    "\n",
    "#Grafo directed se True o uniderected se False\n",
    "directed = True\n",
    "\n",
    "#embedding hyperparameters\n",
    "#default = 1, 1, 10, 80\n",
    "p=1\n",
    "q=1\n",
    "num_walks=10\n",
    "walk_length=80\n"
   ]
  },
  {
   "cell_type": "code",
   "execution_count": 6,
   "metadata": {},
   "outputs": [
    {
     "name": "stdout",
     "output_type": "stream",
     "text": [
      "loading graph grafo_esempio.txt\n",
      "DiGraph with 13 nodes and 42 edges\n",
      "finished\n"
     ]
    }
   ],
   "source": [
    "### LOAD GRAPH ###\n",
    "print(\"loading graph \" + file_name)\n",
    "\n",
    "if directed:\n",
    "    ##genera il grafo directed utilizzando nx.DiGraph\n",
    "    full_graph = nx.read_edgelist(file_name, nodetype=int, create_using=nx.DiGraph)\n",
    "\t\t\n",
    "else:\n",
    "    ##genera il grafo undirected utilizzando nx.Graph\n",
    "    full_graph = nx.read_edgelist(file_name)\n",
    "    \n",
    "nx.set_edge_attributes(full_graph, 1, name='weight')\n",
    "print(full_graph)\n",
    "\n",
    "print(\"finished\")\n"
   ]
  },
  {
   "cell_type": "markdown",
   "metadata": {},
   "source": [
    "Embedding using stanford's node2vec"
   ]
  },
  {
   "cell_type": "code",
   "execution_count": 7,
   "metadata": {},
   "outputs": [
    {
     "name": "stdout",
     "output_type": "stream",
     "text": [
      "Walk iteration:\n",
      "1/10\n",
      "2/10\n",
      "3/10\n",
      "4/10\n",
      "5/10\n",
      "6/10\n",
      "7/10\n",
      "8/10\n",
      "9/10\n",
      "10/10\n"
     ]
    }
   ],
   "source": [
    "G = node2vec.Graph(full_graph, directed, p, q)\n",
    "G.preprocess_transition_probs()\n",
    "walks = G.simulate_walks(num_walks, walk_length)\n"
   ]
  },
  {
   "cell_type": "code",
   "execution_count": 8,
   "metadata": {},
   "outputs": [],
   "source": [
    "walks = [list(map(str, walk)) for walk in walks]\n",
    "model = Word2Vec(walks, window=10, min_count=0, sg=1, workers=8)\n",
    "#model.save_word2vec_format(\"out.emb\")"
   ]
  },
  {
   "cell_type": "markdown",
   "metadata": {},
   "source": [
    "Clustering"
   ]
  },
  {
   "cell_type": "code",
   "execution_count": 9,
   "metadata": {},
   "outputs": [
    {
     "name": "stdout",
     "output_type": "stream",
     "text": [
      "Word2Vec(vocab=13, vector_size=100, alpha=0.025)\n"
     ]
    }
   ],
   "source": [
    "\n",
    "print(model)\n",
    "#k_means_cluster\n"
   ]
  },
  {
   "cell_type": "code",
   "execution_count": 10,
   "metadata": {},
   "outputs": [
    {
     "name": "stdout",
     "output_type": "stream",
     "text": [
      "Coefficiente di clustering medio: 0.441025641025641\n",
      "Nodo 1: Coefficiente di clustering = 0\n",
      "Nodo 2: Coefficiente di clustering = 0.3333333333333333\n",
      "Nodo 3: Coefficiente di clustering = 0\n",
      "Nodo 4: Coefficiente di clustering = 0.3333333333333333\n",
      "Nodo 5: Coefficiente di clustering = 0.2\n",
      "Nodo 7: Coefficiente di clustering = 0\n",
      "Nodo 6: Coefficiente di clustering = 0.6666666666666666\n",
      "Nodo 8: Coefficiente di clustering = 0.2\n",
      "Nodo 9: Coefficiente di clustering = 1.0\n",
      "Nodo 11: Coefficiente di clustering = 0.5\n",
      "Nodo 10: Coefficiente di clustering = 0.5\n",
      "Nodo 12: Coefficiente di clustering = 1.0\n",
      "Nodo 13: Coefficiente di clustering = 1.0\n"
     ]
    }
   ],
   "source": [
    "#Clustering global cc\n",
    "average_cluster_coef = nx.average_clustering(full_graph)\n",
    "\n",
    "print(f\"Coefficiente di clustering medio: {average_cluster_coef}\")\n",
    "\n",
    "\n",
    "\n",
    "#Clustering per ogni nodo (restituisce un dizionario)\n",
    "node_cluster_coefs = nx.clustering(full_graph)\n",
    "\n",
    "for node, cluster_coef in node_cluster_coefs.items():\n",
    "    print(f\"Nodo {node}: Coefficiente di clustering = {cluster_coef}\")\n"
   ]
  },
  {
   "cell_type": "markdown",
   "metadata": {},
   "source": [
    "Valutazione nodi (usare clustered_graph)"
   ]
  },
  {
   "cell_type": "code",
   "execution_count": null,
   "metadata": {},
   "outputs": [],
   "source": [
    "#Valutazione nodi con CC o altre metriche"
   ]
  },
  {
   "cell_type": "code",
   "execution_count": 11,
   "metadata": {},
   "outputs": [
    {
     "name": "stdout",
     "output_type": "stream",
     "text": [
      "DiGraph with 13 nodes and 42 edges\n",
      "Edges: [(1, 2), (1, 3), (2, 1), (2, 4), (2, 5), (3, 1), (3, 5), (4, 2), (4, 5), (4, 7), (5, 2), (5, 3), (5, 4), (5, 6), (5, 8), (7, 4), (7, 8), (7, 11), (6, 5), (6, 8), (6, 9), (8, 5), (8, 6), (8, 7), (8, 9), (8, 10), (9, 6), (9, 8), (11, 7), (11, 10), (11, 12), (11, 13), (10, 8), (10, 11), (10, 12), (10, 13), (12, 10), (12, 11), (12, 13), (13, 10), (13, 11), (13, 12)]\n",
      "Unique Node IDs: [1, 2, 3, 4, 5, 7, 6, 8, 9, 11, 10, 12, 13]\n"
     ]
    }
   ],
   "source": [
    "#Ricerca cliques\n",
    "\n",
    "#lettura file di esempio, costruzione nodes e edges\n",
    "import os\n",
    "import networkx as nx\n",
    "\n",
    "current_directory = os.path.dirname(os.path.realpath(\"__file__\"))\n",
    "filename = \"grafo_esempio.txt\"    \n",
    "\n",
    "graph = nx.Graph()\n",
    "graph = nx.read_edgelist(filename, nodetype=int, create_using=nx.DiGraph)\n",
    "nx.set_edge_attributes(graph, 1, name='weight')\n",
    "print(graph)\n",
    "\n",
    "print(\"Edges:\", graph.edges)\n",
    "print(\"Unique Node IDs:\", graph.nodes)"
   ]
  },
  {
   "cell_type": "code",
   "execution_count": 12,
   "metadata": {},
   "outputs": [
    {
     "name": "stdout",
     "output_type": "stream",
     "text": [
      "Cliques:\n",
      "[[8, 10], [10, 11, 12, 13]]\n",
      "Maximum Clique: [10, 11, 12, 13]\n"
     ]
    }
   ],
   "source": [
    "#funzione per il neighbor\n",
    "def n(v, edges):\n",
    "    neighbors = set()\n",
    "    for edge in edges:\n",
    "        if v in edge:\n",
    "            neighbors.update(edge)\n",
    "\n",
    "    neighbors.discard(v)\n",
    "\n",
    "    return list(neighbors)\n",
    "\n",
    "#Bron-Kerbosch algorithm with pivot\n",
    "def BronKerbosch(R, P, X, edges, cliques):\n",
    "    if not P and not X:\n",
    "        # P and X are both empty, report R as a maximal clique\n",
    "        cliques.append(R)\n",
    "        return\n",
    "\n",
    "    # Choose a pivot vertex u in P ⋃ X\n",
    "    pivot = (set(P) | set(X)).pop()\n",
    "\n",
    "    for v in set(P) - set(n(pivot, edges)):\n",
    "        # Recursively explore the neighborhood of v\n",
    "        BronKerbosch(R + [v], list(set(P) & set(n(v, edges))), list(set(X) & set(n(v, edges))), edges, cliques)\n",
    "\n",
    "        # Remove v from P and add it to X\n",
    "        P.remove(v)\n",
    "        X.append(v)\n",
    "\n",
    "#funzione per la clique massima\n",
    "def maxClique(cliques):\n",
    "    return max(cliques, key=len, default=[])\n",
    "\n",
    "#Ricerca e stampa le cliques e la clique massima\n",
    "all_cliques = []\n",
    "node_cliques = []\n",
    "selected_node = 10\n",
    "BronKerbosch([], list(graph.nodes), [], graph.edges, all_cliques)\n",
    "print(\"Cliques:\")\n",
    "for clique in all_cliques:\n",
    "    if selected_node in clique:\n",
    "        node_cliques.append(clique)\n",
    "        \n",
    "print(node_cliques)\n",
    "\n",
    "print(\"Maximum Clique:\", maxClique(node_cliques))"
   ]
  },
  {
   "cell_type": "code",
   "execution_count": 13,
   "metadata": {},
   "outputs": [
    {
     "name": "stdout",
     "output_type": "stream",
     "text": [
      "Coefficiente di clustering medio: 0.441025641025641\n",
      "Nodo 1: Coefficiente di clustering = 0\n",
      "Nodo 2: Coefficiente di clustering = 0.3333333333333333\n",
      "Nodo 3: Coefficiente di clustering = 0\n",
      "Nodo 4: Coefficiente di clustering = 0.3333333333333333\n",
      "Nodo 5: Coefficiente di clustering = 0.2\n",
      "Nodo 7: Coefficiente di clustering = 0\n",
      "Nodo 6: Coefficiente di clustering = 0.6666666666666666\n",
      "Nodo 8: Coefficiente di clustering = 0.2\n",
      "Nodo 9: Coefficiente di clustering = 1.0\n",
      "Nodo 11: Coefficiente di clustering = 0.5\n",
      "Nodo 10: Coefficiente di clustering = 0.5\n",
      "Nodo 12: Coefficiente di clustering = 1.0\n",
      "Nodo 13: Coefficiente di clustering = 1.0\n"
     ]
    }
   ],
   "source": [
    "#Clustering global cc\n",
    "average_cluster_coef = nx.average_clustering(graph)\n",
    "\n",
    "print(f\"Coefficiente di clustering medio: {average_cluster_coef}\")\n",
    "\n",
    "\n",
    "\n",
    "#Clustering per ogni nodo (restituisce un dizionario)\n",
    "node_cluster_coefs = nx.clustering(graph)\n",
    "\n",
    "for node, cluster_coef in node_cluster_coefs.items():\n",
    "    print(f\"Nodo {node}: Coefficiente di clustering = {cluster_coef}\")\n"
   ]
  },
  {
   "cell_type": "code",
   "execution_count": 14,
   "metadata": {},
   "outputs": [
    {
     "name": "stdout",
     "output_type": "stream",
     "text": [
      "[10, 11, 12, 13]\n"
     ]
    }
   ],
   "source": [
    "#node clique with max cc\n",
    "max_cc = 0\n",
    "best_clique = []\n",
    "for clique in node_cliques:\n",
    "    avg_cc = 0;\n",
    "    for node in clique:\n",
    "        avg_cc += node_cluster_coefs[node]\n",
    "        \n",
    "    if avg_cc/len(clique) > max_cc:\n",
    "        best_clique = clique\n",
    "        \n",
    "print(best_clique)"
   ]
  },
  {
   "cell_type": "code",
   "execution_count": 16,
   "metadata": {},
   "outputs": [
    {
     "name": "stdout",
     "output_type": "stream",
     "text": [
      "Iteration 1: Removed nodes [6]\n",
      "Iteration 2: Removed nodes [13]\n",
      "Iteration 3: Removed nodes [10]\n",
      "Iteration 4: Removed nodes [4]\n",
      "Iteration 5: Removed nodes [10]\n",
      "Iteration 6: Removed nodes [3]\n",
      "Iteration 7: Removed nodes [1]\n",
      "Iteration 8: Removed nodes [2]\n",
      "Iteration 9: Removed nodes [4]\n",
      "Iteration 10: Removed nodes [10]\n"
     ]
    }
   ],
   "source": [
    "#Tentativi con rimozioni casuali\n",
    "import random\n",
    "\n",
    "# Numero di nodi da rimuovere ad ogni iterazione\n",
    "n_nodes_to_remove = 1\n",
    "\n",
    "# Numero totale di iterazioni\n",
    "n_iterations = 10\n",
    "\n",
    "# Copia del grafo iniziale\n",
    "graph_to_modify = full_graph.copy()\n",
    "\n",
    "for iteration in range(n_iterations):\n",
    "    # Rimuovi n nodi casuali dal grafo\n",
    "    nodes_to_remove = random.sample(list(graph_to_modify.nodes()), n_nodes_to_remove)\n",
    "    updated_graph = graph_to_modify.copy()\n",
    "    updated_graph.remove_nodes_from(nodes_to_remove)\n",
    "\n",
    "    # Stampa o elabora i risultati desiderati\n",
    "    print(f\"Iteration {iteration + 1}: Removed nodes {nodes_to_remove}\")\n",
    "    \n",
    "    # Aggiorna il grafo originale per la prossima iterazione\n",
    "    original_graph = updated_graph.copy()\n"
   ]
  }
 ],
 "metadata": {
  "kernelspec": {
   "display_name": "Python 3 (ipykernel)",
   "language": "python",
   "name": "python3"
  },
  "language_info": {
   "codemirror_mode": {
    "name": "ipython",
    "version": 3
   },
   "file_extension": ".py",
   "mimetype": "text/x-python",
   "name": "python",
   "nbconvert_exporter": "python",
   "pygments_lexer": "ipython3",
   "version": "3.11.6"
  }
 },
 "nbformat": 4,
 "nbformat_minor": 4
}
