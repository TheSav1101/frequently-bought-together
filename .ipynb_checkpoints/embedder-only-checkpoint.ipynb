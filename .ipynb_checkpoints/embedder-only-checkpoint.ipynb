{
 "cells": [
  {
   "cell_type": "code",
   "execution_count": 8,
   "metadata": {
    "id": "nxvzxjEORdfn"
   },
   "outputs": [
    {
     "ename": "PermissionError",
     "evalue": "[Errno 13] Permission denied: '/data/'",
     "output_type": "error",
     "traceback": [
      "\u001b[0;31m---------------------------------------------------------------------------\u001b[0m",
      "\u001b[0;31mPermissionError\u001b[0m                           Traceback (most recent call last)",
      "Cell \u001b[0;32mIn[8], line 10\u001b[0m\n\u001b[1;32m      7\u001b[0m models_dir \u001b[38;5;241m=\u001b[39m \u001b[38;5;124m\"\u001b[39m\u001b[38;5;124m/models/\u001b[39m\u001b[38;5;124m\"\u001b[39m\n\u001b[1;32m      9\u001b[0m \u001b[38;5;28;01mif\u001b[39;00m \u001b[38;5;129;01mnot\u001b[39;00m os\u001b[38;5;241m.\u001b[39mpath\u001b[38;5;241m.\u001b[39mexists(data_dir):\n\u001b[0;32m---> 10\u001b[0m     \u001b[43mos\u001b[49m\u001b[38;5;241;43m.\u001b[39;49m\u001b[43mmakedirs\u001b[49m\u001b[43m(\u001b[49m\u001b[43mdata_dir\u001b[49m\u001b[43m)\u001b[49m\n\u001b[1;32m     12\u001b[0m \u001b[38;5;28;01mif\u001b[39;00m \u001b[38;5;129;01mnot\u001b[39;00m os\u001b[38;5;241m.\u001b[39mpath\u001b[38;5;241m.\u001b[39mexists(models_dir):\n\u001b[1;32m     13\u001b[0m     os\u001b[38;5;241m.\u001b[39mmakedirs(models_dir)\n",
      "File \u001b[0;32m<frozen os>:225\u001b[0m, in \u001b[0;36mmakedirs\u001b[0;34m(name, mode, exist_ok)\u001b[0m\n",
      "\u001b[0;31mPermissionError\u001b[0m: [Errno 13] Permission denied: '/data/'"
     ]
    }
   ],
   "source": [
    "import node2vec\n",
    "import networkx as nx\n",
    "from gensim.models import Word2Vec\n",
    "import os\n",
    "\n",
    "data_dir = \"data/\"\n",
    "models_dir = \"models/\"\n",
    "\n",
    "if not os.path.exists(data_dir):\n",
    "    os.makedirs(data_dir)\n",
    "\n",
    "if not os.path.exists(models_dir):\n",
    "    os.makedirs(models_dir)\n",
    "\n",
    "files = [\"Amazon0302\", \"Amazon0312\", \"Amazon0505\", \"Amazon0601\", \"AmazonU\"]\n",
    "file_ext = \".txt\"\n",
    "\n",
    "#Grafo directed se True o uniderected se False\n",
    "directed = [True, True, True, True, False]\n",
    "\n",
    "#embedding hyperparameters\n",
    "#default = 1, 1, 10, 80\n",
    "p=1\n",
    "q=1\n",
    "num_walks=10\n",
    "walk_length=80\n",
    "\n",
    "graphs = []\n",
    "\n",
    "### LOAD GRAPHS ###\n",
    "for i in range(len(files)):\n",
    "    print(\"loading graph \" + data_dir + files[i] + file_ext)\n",
    "    if directed[i]:\n",
    "        ##genera il grafo directed utilizzando nx.DiGraph\n",
    "        graphs.append(nx.read_edgelist(data_dir + files[i] + file_ext, nodetype=int, create_using=nx.DiGraph))\n",
    "    \n",
    "    else:\n",
    "        ##genera il grafo undirected utilizzando nx.Graph\n",
    "        graphs.append(nx.read_edgelist(data_dir + files[i] + file_ext))\n",
    "\n",
    "    nx.set_edge_attributes(graphs[i], 1, name='weight')\n",
    "\n",
    "print(\"finished\")"
   ]
  },
  {
   "cell_type": "markdown",
   "metadata": {
    "id": "UvwyMMaHRdfq"
   },
   "source": [
    "Embedding using stanford's node2vec"
   ]
  },
  {
   "cell_type": "code",
   "execution_count": 7,
   "metadata": {
    "colab": {
     "base_uri": "https://localhost:8080/"
    },
    "id": "ANAuvlt2Rdfr",
    "outputId": "4e376c59-8012-4fa4-f236-6d4565f14f6f"
   },
   "outputs": [
    {
     "name": "stdout",
     "output_type": "stream",
     "text": [
      "No saved model found, generating embedding...\n"
     ]
    },
    {
     "ename": "KeyboardInterrupt",
     "evalue": "",
     "output_type": "error",
     "traceback": [
      "\u001b[0;31m---------------------------------------------------------------------------\u001b[0m",
      "\u001b[0;31mKeyboardInterrupt\u001b[0m                         Traceback (most recent call last)",
      "Cell \u001b[0;32mIn[7], line 12\u001b[0m\n\u001b[1;32m     10\u001b[0m \u001b[38;5;28mprint\u001b[39m(\u001b[38;5;124m\"\u001b[39m\u001b[38;5;124mNo saved model found, generating embedding...\u001b[39m\u001b[38;5;124m\"\u001b[39m)\n\u001b[1;32m     11\u001b[0m G \u001b[38;5;241m=\u001b[39m node2vec\u001b[38;5;241m.\u001b[39mGraph(graphs[i], directed[i], p, q)\n\u001b[0;32m---> 12\u001b[0m \u001b[43mG\u001b[49m\u001b[38;5;241;43m.\u001b[39;49m\u001b[43mpreprocess_transition_probs\u001b[49m\u001b[43m(\u001b[49m\u001b[43m)\u001b[49m\n\u001b[1;32m     13\u001b[0m walks \u001b[38;5;241m=\u001b[39m G\u001b[38;5;241m.\u001b[39msimulate_walks(num_walks, walk_length)\n\u001b[1;32m     14\u001b[0m walks \u001b[38;5;241m=\u001b[39m [\u001b[38;5;28mlist\u001b[39m(\u001b[38;5;28mmap\u001b[39m(\u001b[38;5;28mstr\u001b[39m, walk)) \u001b[38;5;28;01mfor\u001b[39;00m walk \u001b[38;5;129;01min\u001b[39;00m walks]\n",
      "File \u001b[0;32m~/learningFN/project/frequently-bought-together/node2vec.py:95\u001b[0m, in \u001b[0;36mGraph.preprocess_transition_probs\u001b[0;34m(self)\u001b[0m\n\u001b[1;32m     93\u001b[0m \u001b[38;5;28;01mif\u001b[39;00m is_directed:\n\u001b[1;32m     94\u001b[0m \t\u001b[38;5;28;01mfor\u001b[39;00m edge \u001b[38;5;129;01min\u001b[39;00m G\u001b[38;5;241m.\u001b[39medges():\n\u001b[0;32m---> 95\u001b[0m \t\talias_edges[edge] \u001b[38;5;241m=\u001b[39m \u001b[38;5;28;43mself\u001b[39;49m\u001b[38;5;241;43m.\u001b[39;49m\u001b[43mget_alias_edge\u001b[49m\u001b[43m(\u001b[49m\u001b[43medge\u001b[49m\u001b[43m[\u001b[49m\u001b[38;5;241;43m0\u001b[39;49m\u001b[43m]\u001b[49m\u001b[43m,\u001b[49m\u001b[43m \u001b[49m\u001b[43medge\u001b[49m\u001b[43m[\u001b[49m\u001b[38;5;241;43m1\u001b[39;49m\u001b[43m]\u001b[49m\u001b[43m)\u001b[49m\n\u001b[1;32m     96\u001b[0m \u001b[38;5;28;01melse\u001b[39;00m:\n\u001b[1;32m     97\u001b[0m \t\u001b[38;5;28;01mfor\u001b[39;00m edge \u001b[38;5;129;01min\u001b[39;00m G\u001b[38;5;241m.\u001b[39medges():\n",
      "File \u001b[0;32m~/learningFN/project/frequently-bought-together/node2vec.py:74\u001b[0m, in \u001b[0;36mGraph.get_alias_edge\u001b[0;34m(self, src, dst)\u001b[0m\n\u001b[1;32m     71\u001b[0m norm_const \u001b[38;5;241m=\u001b[39m \u001b[38;5;28msum\u001b[39m(unnormalized_probs)\n\u001b[1;32m     72\u001b[0m normalized_probs \u001b[38;5;241m=\u001b[39m  [\u001b[38;5;28mfloat\u001b[39m(u_prob)\u001b[38;5;241m/\u001b[39mnorm_const \u001b[38;5;28;01mfor\u001b[39;00m u_prob \u001b[38;5;129;01min\u001b[39;00m unnormalized_probs]\n\u001b[0;32m---> 74\u001b[0m \u001b[38;5;28;01mreturn\u001b[39;00m \u001b[43malias_setup\u001b[49m\u001b[43m(\u001b[49m\u001b[43mnormalized_probs\u001b[49m\u001b[43m)\u001b[49m\n",
      "File \u001b[0;32m~/learningFN/project/frequently-bought-together/node2vec.py:124\u001b[0m, in \u001b[0;36malias_setup\u001b[0;34m(probs)\u001b[0m\n\u001b[1;32m    122\u001b[0m         smaller\u001b[38;5;241m.\u001b[39mappend(kk)\n\u001b[1;32m    123\u001b[0m     \u001b[38;5;28;01melse\u001b[39;00m:\n\u001b[0;32m--> 124\u001b[0m         larger\u001b[38;5;241m.\u001b[39mappend(kk)\n\u001b[1;32m    126\u001b[0m \u001b[38;5;28;01mwhile\u001b[39;00m \u001b[38;5;28mlen\u001b[39m(smaller) \u001b[38;5;241m>\u001b[39m \u001b[38;5;241m0\u001b[39m \u001b[38;5;129;01mand\u001b[39;00m \u001b[38;5;28mlen\u001b[39m(larger) \u001b[38;5;241m>\u001b[39m \u001b[38;5;241m0\u001b[39m:\n\u001b[1;32m    127\u001b[0m     small \u001b[38;5;241m=\u001b[39m smaller\u001b[38;5;241m.\u001b[39mpop()\n",
      "\u001b[0;31mKeyboardInterrupt\u001b[0m: "
     ]
    }
   ],
   "source": [
    "#Author:Savoia Emanuele\n",
    "for i in range(len(graphs)):\n",
    "    filename = models_dir + files[i] + \".model\"\n",
    "    saved = False\n",
    "    if(os.path.isfile(filename)):\n",
    "      saved = True\n",
    "    if(saved):\n",
    "      print(\"Saved model found for file \" + filename)\n",
    "    else:\n",
    "      print(\"No saved model found, generating embedding...\")\n",
    "      G = node2vec.Graph(graphs[i], directed[i], p, q)\n",
    "      G.preprocess_transition_probs()\n",
    "      walks = G.simulate_walks(num_walks, walk_length)\n",
    "      walks = [list(map(str, walk)) for walk in walks]\n",
    "      model = Word2Vec(walks, window=10, min_count=0, sg=1, workers=100)\n",
    "      model.save(filename)"
   ]
  },
  {
   "cell_type": "code",
   "execution_count": null,
   "metadata": {},
   "outputs": [],
   "source": []
  }
 ],
 "metadata": {
  "colab": {
   "machine_shape": "hm",
   "provenance": []
  },
  "kernelspec": {
   "display_name": "Python 3 (ipykernel)",
   "language": "python",
   "name": "python3"
  },
  "language_info": {
   "codemirror_mode": {
    "name": "ipython",
    "version": 3
   },
   "file_extension": ".py",
   "mimetype": "text/x-python",
   "name": "python",
   "nbconvert_exporter": "python",
   "pygments_lexer": "ipython3",
   "version": "3.11.6"
  }
 },
 "nbformat": 4,
 "nbformat_minor": 4
}
