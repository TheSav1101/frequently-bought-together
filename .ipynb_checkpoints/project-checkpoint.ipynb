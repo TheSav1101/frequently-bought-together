{
 "cells": [
  {
   "cell_type": "markdown",
   "metadata": {
    "id": "yqVzrDURRdfh"
   },
   "source": [
    "Frequently Bought Toghether Items"
   ]
  },
  {
   "cell_type": "markdown",
   "metadata": {
    "id": "EWZstf_yRdfm"
   },
   "source": [
    "Inizializzazione, parametri e altre cose che tutti devono sapere"
   ]
  },
  {
   "cell_type": "code",
   "execution_count": 2,
   "metadata": {
    "colab": {
     "base_uri": "https://localhost:8080/"
    },
    "id": "JerKv_BSSvXx",
    "outputId": "fe736be9-f69e-4adf-e0a9-a816b2cb80e9"
   },
   "outputs": [
    {
     "name": "stdout",
     "output_type": "stream",
     "text": [
      "Mounted at /content/drive/\n"
     ]
    }
   ],
   "source": [
    "from google.colab import drive\n",
    "drive.mount('/content/drive/')\n",
    "import os\n",
    "os.chdir(\"drive/MyDrive/_COLAB\")"
   ]
  },
  {
   "cell_type": "code",
   "execution_count": 3,
   "metadata": {
    "id": "nxvzxjEORdfn"
   },
   "outputs": [],
   "source": [
    "#import numpy as np\n",
    "#import matplotlib.pyplot as plt\n",
    "import random\n",
    "import networkx as nx\n",
    "import node2vec\n",
    "from gensim.models import Word2Vec\n",
    "\n",
    "#Nodo target\n",
    "target = 3\n",
    "\n",
    "#Grafo completo FBT\n",
    "full_graph = nx.Graph()\n",
    "\n",
    "#Grafo cluster selezionato\n",
    "clustered_graph = nx.Graph()\n",
    "\n",
    "#File di lettura\n",
    "#file_name = \"Amazon0302.txt\"\n",
    "file_name = \"grafo_esempio.txt\"\n",
    "\n",
    "#Grafo directed se True o uniderected se False\n",
    "directed = True\n",
    "\n",
    "#embedding hyperparameters\n",
    "#default = 1, 1, 10, 80\n",
    "p=1\n",
    "q=1\n",
    "num_walks=10\n",
    "walk_length=80"
   ]
  },
  {
   "cell_type": "code",
   "execution_count": 4,
   "metadata": {
    "colab": {
     "base_uri": "https://localhost:8080/"
    },
    "id": "PiyIb2ksRdfq",
    "outputId": "befc1b4c-4205-4159-9cc2-de0a2df74b38"
   },
   "outputs": [
    {
     "name": "stdout",
     "output_type": "stream",
     "text": [
      "loading graph grafo_esempio.txt\n",
      "DiGraph with 13 nodes and 42 edges\n",
      "finished\n"
     ]
    }
   ],
   "source": [
    "### LOAD GRAPH ###\n",
    "print(\"loading graph \" + file_name)\n",
    "\n",
    "if directed:\n",
    "    ##genera il grafo directed utilizzando nx.DiGraph\n",
    "    full_graph = nx.read_edgelist(file_name, nodetype=int, create_using=nx.DiGraph)\n",
    "\n",
    "else:\n",
    "    ##genera il grafo undirected utilizzando nx.Graph\n",
    "    full_graph = nx.read_edgelist(file_name)\n",
    "\n",
    "nx.set_edge_attributes(full_graph, 1, name='weight')\n",
    "print(full_graph)\n",
    "\n",
    "print(\"finished\")"
   ]
  },
  {
   "cell_type": "markdown",
   "metadata": {
    "id": "UvwyMMaHRdfq"
   },
   "source": [
    "Embedding using stanford's node2vec"
   ]
  },
  {
   "cell_type": "code",
   "execution_count": 5,
   "metadata": {
    "colab": {
     "base_uri": "https://localhost:8080/"
    },
    "id": "ANAuvlt2Rdfr",
    "outputId": "4e376c59-8012-4fa4-f236-6d4565f14f6f"
   },
   "outputs": [
    {
     "name": "stdout",
     "output_type": "stream",
     "text": [
      "Walk iteration:\n",
      "1/10\n",
      "2/10\n",
      "3/10\n",
      "4/10\n",
      "5/10\n",
      "6/10\n",
      "7/10\n",
      "8/10\n",
      "9/10\n",
      "10/10\n"
     ]
    }
   ],
   "source": [
    "G = node2vec.Graph(full_graph, directed, p, q)\n",
    "G.preprocess_transition_probs()\n",
    "walks = G.simulate_walks(num_walks, walk_length)"
   ]
  },
  {
   "cell_type": "code",
   "execution_count": 6,
   "metadata": {
    "colab": {
     "base_uri": "https://localhost:8080/"
    },
    "id": "K7STIEKbX5x-",
    "outputId": "595fece6-a139-4043-b391-432186b064f9"
   },
   "outputs": [
    {
     "name": "stdout",
     "output_type": "stream",
     "text": [
      "2\n"
     ]
    }
   ],
   "source": [
    "import multiprocessing\n",
    "\n",
    "cores = multiprocessing.cpu_count() # Count the number of cores in a computer\n",
    "print(cores)"
   ]
  },
  {
   "cell_type": "code",
   "execution_count": 7,
   "metadata": {
    "id": "f5XqXllFRdfr"
   },
   "outputs": [],
   "source": [
    "walks = [list(map(str, walk)) for walk in walks]\n",
    "model = Word2Vec(walks, window=10, min_count=0, sg=1, workers=100)\n",
    "#model.save_word2vec_format(\"out.emb\")"
   ]
  },
  {
   "cell_type": "markdown",
   "metadata": {
    "id": "vB73xH0SRdfr"
   },
   "source": [
    "Clustering"
   ]
  },
  {
   "cell_type": "code",
   "execution_count": 75,
   "metadata": {
    "colab": {
     "base_uri": "https://localhost:8080/"
    },
    "id": "aqfoVs_jRdfs",
    "outputId": "d98de8be-201b-43fc-e7a2-eb8280b6ca3e"
   },
   "outputs": [
    {
     "name": "stdout",
     "output_type": "stream",
     "text": [
      "Word2Vec<vocab=13, vector_size=100, alpha=0.025>\n",
      "[-0.14197668  0.08512121  0.07584646  0.11934163  0.11622687 -0.05062799\n",
      "  0.13757646  0.22326213 -0.13313065 -0.14460886  0.12417695 -0.10164285\n",
      "  0.01561244  0.03862203  0.08181403 -0.02746152  0.2003869   0.06218033\n",
      " -0.13795291 -0.2583341   0.00440307 -0.01494933  0.3317297  -0.0362533\n",
      "  0.02089133  0.07207937 -0.08828546  0.15779483 -0.11740845  0.05205203\n",
      "  0.15738735 -0.0373336   0.03354341 -0.02051505 -0.06340018  0.07777523\n",
      "  0.0384935  -0.04248743 -0.06773186  0.01292783  0.08860535  0.02528921\n",
      " -0.09829661 -0.00979047  0.06791384  0.02714574  0.01743943 -0.05115629\n",
      " -0.05412643  0.03874512  0.08517297 -0.1166098  -0.1088791  -0.12285123\n",
      " -0.10464636 -0.1453124  -0.04655783 -0.02418368  0.06329567 -0.04642089\n",
      " -0.11485816 -0.06125674  0.27391064 -0.03638752 -0.16995655  0.11432523\n",
      "  0.03951981  0.11549199 -0.22437248 -0.00754655  0.02178256  0.17501625\n",
      "  0.06600472  0.14615414 -0.00424393 -0.08001228  0.03020716  0.00367388\n",
      " -0.09610332 -0.07944224 -0.1443189  -0.03501317  0.02851746  0.13780095\n",
      " -0.06089105 -0.17043804  0.18818134 -0.13486688 -0.01403837 -0.01336483\n",
      " -0.09243096  0.01430313  0.08477056 -0.08458932  0.29142448  0.03691109\n",
      "  0.18114635 -0.0555367   0.09727035  0.01262114]\n"
     ]
    }
   ],
   "source": [
    "print(model)\n",
    "vector = model.wv[1]\n",
    "print(vector)\n",
    "\n",
    "NUMBER_OF_ITERATIONS = 10\n",
    "\n",
    "#k_means_cluster\n",
    "class Point:\n",
    "    def __init__(self, x, y):\n",
    "        self.vector = x\n",
    "        self.assigned = y\n",
    "\n",
    "#calculate distance between two points\n",
    "def distance(point1, point2):\n",
    "    dist = 0\n",
    "    for i in range(len(point1.vector)):\n",
    "        dist += (point1.vector[i] - point2.vector[i])**2\n",
    "    return dist\n",
    "\n",
    "#calculate S score of point given array of centers and other points\n",
    "def calculate_silhouette(point, centers, points):\n",
    "    a_i = 0.0\n",
    "    b_i = float('inf')\n",
    "    cluster_size = 0\n",
    "    members = 0\n",
    "\n",
    "    for i in range(len(points)):\n",
    "        if points[i].assigned == point.assigned:\n",
    "            a_i += distance(point, points[i])\n",
    "            members += 1\n",
    "\n",
    "    if members < 2:\n",
    "        return 0\n",
    "    else:\n",
    "        a_i/= (members-1)\n",
    "\n",
    "    for k in range(len(centers)):\n",
    "        if not(k == point.assigned):\n",
    "            sum = 0.0\n",
    "            number = 0\n",
    "            for i in range(len(points)):\n",
    "                if points[i].assigned == k:\n",
    "                    sum += distance(point, points[i])\n",
    "                    number +=1\n",
    "            if not(number == 0):\n",
    "                sum /= number\n",
    "                if sum < b_i:\n",
    "                    b_i = sum\n",
    "\n",
    "    if len(centers) == 1:\n",
    "        b_i = 0\n",
    "\n",
    "    return (b_i - a_i)/max(a_i, b_i)\n",
    "\n",
    "# calculate total silhouette score for clustering\n",
    "def calculate_silhouette_score(points, centers):\n",
    "    ss = 0.0\n",
    "    for point in points:\n",
    "        best_assign = -1\n",
    "        min_dist = float('inf')\n",
    "        for k in range(len(centers)):\n",
    "            if distance(point, centers[k]) < min_dist:\n",
    "                point.assigned = k\n",
    "                min_dist = distance(point, centers[k])\n",
    "\n",
    "    for p in points:\n",
    "        ss += calculate_silhouette(p, centers, points)\n",
    "\n",
    "    return ss/len(points)\n",
    "\n",
    "def k_means_plus_plus(points, k_chosen):\n",
    "    ##init with kmeans++##\n",
    "    centroids = []\n",
    "    distances = []\n",
    "    probabilities = []\n",
    "    centroids_index = []\n",
    "\n",
    "    random_first_point = random.randrange(len(points))\n",
    "    centroids.append(points[random_first_point])\n",
    "    centroids_index.append(random_first_point)\n",
    "    sum = 0.0\n",
    "    for p in points:\n",
    "        p.assigned = 0\n",
    "        current = distance(centroids[0], p)\n",
    "        distances.append(current)\n",
    "        sum += current**2\n",
    "        probabilities.append(sum)\n",
    "    #choose a point with weighted probability for kmeans ++\n",
    "    for i in range(k_chosen):\n",
    "        if (i == 0):\n",
    "          continue\n",
    "        print(\"sum: \" + str(sum))\n",
    "        chosen = random.uniform(0.0, sum)\n",
    "        print(\"Chosen: \" + str(chosen))\n",
    "        c = 0\n",
    "        for j in range(len(points)):\n",
    "            if chosen > probabilities[j]:\n",
    "              print(\"probabilities \" +str(j) + \" = \" + str(probabilities[j]))\n",
    "              continue\n",
    "            else:\n",
    "              if j == 0:\n",
    "                c = 0\n",
    "                break\n",
    "              else:\n",
    "                c = j - 1\n",
    "                new = False\n",
    "                while not new:\n",
    "                  for K_old in centroids_index:\n",
    "                    if probabilities[c] == probabilities[K_old]:\n",
    "                      c -= 1\n",
    "                      new = False\n",
    "                      break\n",
    "                    else:\n",
    "                      new = True\n",
    "                if c < 0:\n",
    "                  c = j\n",
    "                break\n",
    "        centroids_index.append(c)\n",
    "        centroids.append(points[c])\n",
    "        sum = 0\n",
    "        for j in range(len(points)):\n",
    "            current = distance(centroids[i], points [j])\n",
    "            print(\"Current: \" + str(current))\n",
    "            if(distances[j] > current):\n",
    "                distances[j] = current\n",
    "                points[j].assigned = i\n",
    "            sum += distances[j]**2\n",
    "            probabilities[j] = sum\n",
    "\n",
    "    for p in points:\n",
    "      print(\"Assigned: \" + str(p.assigned))\n",
    "\n",
    "\n",
    "    print(\"#################\")\n",
    "    for c in centroids_index:\n",
    "      print(c)\n",
    "\n",
    "    ##start kmeans##\n",
    "    for iter in range(NUMBER_OF_ITERATIONS):\n",
    "        changed = False\n",
    "        for k in range(k_chosen):\n",
    "            med_vec = []\n",
    "            for j in range(len(points[0].vector)):\n",
    "                med = 0\n",
    "                pts = 0\n",
    "                for p in points:\n",
    "                    if(p.assigned == k):\n",
    "                        med += p.vector[j]\n",
    "                        pts += 1\n",
    "                med /= pts\n",
    "                med_vec.append(med)\n",
    "            centroids[k] = Point(med_vec, k)\n",
    "\n",
    "        for p in points:\n",
    "            best_dist = float('inf')\n",
    "            best_k = 0\n",
    "            for k in range(k_chosen):\n",
    "                dist = distance(p, centroids[k])\n",
    "                if(dist < best_dist):\n",
    "                    best_dist = dist\n",
    "                    best_k = k\n",
    "            if not(best_k == p.assigned):\n",
    "                changed = True\n",
    "                p.assigned = best_k\n",
    "\n",
    "        if not changed:\n",
    "            break\n",
    "        else:\n",
    "            changed = False\n",
    "\n",
    "    #find closest point to centroid\n",
    "    for k in range(k_chosen):\n",
    "        dist = float('inf')\n",
    "        i = -1\n",
    "        for p in range(len(points)):\n",
    "            dist_p = distance(points[p], centroids[k])\n",
    "            if dist_p < dist :\n",
    "                dist = dist_p\n",
    "                i = p\n",
    "        centroids[k] = points[i]\n",
    "\n",
    "    return centroids\n",
    "\n",
    "def find_best_centroids(points):\n",
    "    best_centroids = []\n",
    "    best_score = -1.0\n",
    "    for k in range(2, len(points)):\n",
    "      print(\"trying K = \" + str(k))\n",
    "      current_score = -1\n",
    "      current_centroids = k_means_plus_plus(points, k)\n",
    "      current_score = calculate_silhouette_score(points, current_centroids)\n",
    "      if(current_score >= best_score):\n",
    "          best_centroids = current_centroids\n",
    "          best_score = current_score\n",
    "      else:\n",
    "            return best_centroids"
   ]
  },
  {
   "cell_type": "code",
   "execution_count": 97,
   "metadata": {
    "colab": {
     "base_uri": "https://localhost:8080/"
    },
    "id": "0mRM339ARdft",
    "outputId": "2630ba06-9caf-46fa-b24d-1b5308decf26"
   },
   "outputs": [
    {
     "name": "stdout",
     "output_type": "stream",
     "text": [
      "[<__main__.Point object at 0x7e4c53517820>, <__main__.Point object at 0x7e4c535179a0>, <__main__.Point object at 0x7e4c5345a9b0>, <__main__.Point object at 0x7e4c53458dc0>, <__main__.Point object at 0x7e4c5345af80>, <__main__.Point object at 0x7e4c5345b3d0>, <__main__.Point object at 0x7e4c5345acb0>, <__main__.Point object at 0x7e4c53458070>, <__main__.Point object at 0x7e4c5345a860>, <__main__.Point object at 0x7e4c5345a200>, <__main__.Point object at 0x7e4c5345a980>, <__main__.Point object at 0x7e4c5345ab60>, <__main__.Point object at 0x7e4c53459f00>]\n",
      "trying K = 2\n",
      "sum: 13.020086981019297\n",
      "Chosen: 2.3632334709952456\n",
      "probabilities 0 = 1.8944160860597656\n",
      "probabilities 1 = 2.304854182045688\n",
      "probabilities 2 = 2.306946596141212\n",
      "probabilities 3 = 2.307062267207338\n",
      "Current: 1.3968795834375394\n",
      "Current: 0.6622337854442815\n",
      "Current: 0.05509270384805695\n",
      "Current: 0.0\n",
      "Current: 1.3828763801915465\n",
      "Current: 1.1407259810039483\n",
      "Current: 0.007668281866689136\n",
      "Current: 0.3146067489528062\n",
      "Current: 1.080148038414856\n",
      "Current: 0.010755048401848613\n",
      "Current: 1.830219486444534\n",
      "Current: 1.5208118081926338\n",
      "Current: 0.9499773051374576\n",
      "Assigned: 0\n",
      "Assigned: 0\n",
      "Assigned: 0\n",
      "Assigned: 1\n",
      "Assigned: 0\n",
      "Assigned: 0\n",
      "Assigned: 0\n",
      "Assigned: 0\n",
      "Assigned: 0\n",
      "Assigned: 0\n",
      "Assigned: 0\n",
      "Assigned: 0\n",
      "Assigned: 0\n",
      "#################\n",
      "9\n",
      "3\n",
      "trying K = 3\n",
      "sum: 13.090210807256229\n",
      "Chosen: 7.982663687380389\n",
      "probabilities 0 = 0.002268495082647809\n",
      "probabilities 1 = 0.29159039917314955\n",
      "probabilities 2 = 2.155728261405133\n",
      "probabilities 3 = 5.505431629966427\n",
      "probabilities 4 = 5.5076839663680905\n",
      "probabilities 5 = 5.516853844128114\n",
      "Current: 0.036117482026410824\n",
      "Current: 0.2926806049319258\n",
      "Current: 0.7945394702514464\n",
      "Current: 1.1407259810039483\n",
      "Current: 0.03660622368339182\n",
      "Current: 0.0\n",
      "Current: 1.1451119833802634\n",
      "Current: 0.28218812205591376\n",
      "Current: 0.3748010822973986\n",
      "Current: 1.1258649662377882\n",
      "Current: 0.09575947869544661\n",
      "Current: 0.04633539954896501\n",
      "Current: 0.38022105460789757\n",
      "sum: 4.966529541970419\n",
      "Chosen: 0.1474953948799404\n",
      "probabilities 0 = 0.001304472507928109\n",
      "probabilities 1 = 0.08696640901124615\n",
      "Current: 0.30475498247796573\n",
      "Current: 0.0\n",
      "Current: 0.3697006770056226\n",
      "Current: 0.6622337854442815\n",
      "Current: 0.2998630158682856\n",
      "Current: 0.2926806049319258\n",
      "Current: 0.6459554086332349\n",
      "Current: 0.17016355566432978\n",
      "Current: 0.06229307646679421\n",
      "Current: 0.6406544278984752\n",
      "Current: 0.5378865159961734\n",
      "Current: 0.5366230208184108\n",
      "Current: 0.0407033461697042\n",
      "Assigned: 1\n",
      "Assigned: 2\n",
      "Assigned: 2\n",
      "Assigned: 2\n",
      "Assigned: 1\n",
      "Assigned: 1\n",
      "Assigned: 2\n",
      "Assigned: 2\n",
      "Assigned: 2\n",
      "Assigned: 2\n",
      "Assigned: 0\n",
      "Assigned: 1\n",
      "Assigned: 2\n",
      "#################\n",
      "10\n",
      "5\n",
      "1\n",
      "[2, 3, 6, 7, 9]\n",
      "DiGraph with 5 nodes and 2 edges\n"
     ]
    }
   ],
   "source": [
    "points_ = []\n",
    "#initialize vector of points to be used in Kmeans++\n",
    "for p in range(full_graph.number_of_nodes()):\n",
    "    points_.append(Point(model.wv[p], 0))\n",
    "\n",
    "print(points_)\n",
    "\n",
    "best_c = find_best_centroids(points_)\n",
    "clustered = []\n",
    "\n",
    "for p in points_:\n",
    "    min_dist = float('inf')\n",
    "    for k in range(len(best_c)):\n",
    "        dist_ = distance(p, best_c[k])\n",
    "        if(dist_ < min_dist):\n",
    "            min_dist = dist_\n",
    "            p.assigned = k\n",
    "\n",
    "target_cluster = points_[target].assigned\n",
    "\n",
    "for p in range(len(points_)):\n",
    "    if points_[p].assigned == target_cluster:\n",
    "        clustered.append(p)\n",
    "\n",
    "print(clustered)\n",
    "clustered_graph = full_graph.subgraph(clustered)\n",
    "print(clustered_graph)"
   ]
  },
  {
   "cell_type": "code",
   "execution_count": 92,
   "metadata": {
    "colab": {
     "base_uri": "https://localhost:8080/"
    },
    "id": "T6BsJ8GlRdft",
    "outputId": "9c9e23d3-baa7-47f8-b286-dcbbecc080e9"
   },
   "outputs": [
    {
     "name": "stdout",
     "output_type": "stream",
     "text": [
      "Coefficiente di clustering medio: 0.0\n",
      "Nodo 2: Coefficiente di clustering = 0\n",
      "Nodo 3: Coefficiente di clustering = 0\n",
      "Nodo 6: Coefficiente di clustering = 0\n",
      "Nodo 7: Coefficiente di clustering = 0\n",
      "Nodo 9: Coefficiente di clustering = 0\n"
     ]
    }
   ],
   "source": [
    "#Clustering global cc\n",
    "average_cluster_coef = nx.average_clustering(clustered_graph)\n",
    "\n",
    "print(f\"Coefficiente di clustering medio: {average_cluster_coef}\")\n",
    "\n",
    "\n",
    "\n",
    "#Clustering per ogni nodo (restituisce un dizionario)\n",
    "node_cluster_coefs = nx.clustering(clustered_graph)\n",
    "\n",
    "for node, cluster_coef in node_cluster_coefs.items():\n",
    "    print(f\"Nodo {node}: Coefficiente di clustering = {cluster_coef}\")\n"
   ]
  },
  {
   "cell_type": "markdown",
   "metadata": {
    "id": "hPHd-FAcRdfu"
   },
   "source": [
    "Valutazione nodi (usare clustered_graph)"
   ]
  },
  {
   "cell_type": "code",
   "execution_count": null,
   "metadata": {
    "id": "X8isCZgkRdfu"
   },
   "outputs": [],
   "source": [
    "#Valutazione nodi con CC o altre metriche"
   ]
  },
  {
   "cell_type": "code",
   "execution_count": null,
   "metadata": {
    "id": "t4rr9wPJRdfv"
   },
   "outputs": [],
   "source": [
    "#Ricerca cliques\n",
    "\n",
    "#lettura file di esempio, costruzione nodes e edges\n",
    "import os\n",
    "import networkx as nx\n",
    "\n",
    "current_directory = os.path.dirname(os.path.realpath(\"__file__\"))\n",
    "filename = \"grafo_esempio.txt\"\n",
    "\n",
    "graph = nx.Graph()\n",
    "graph = nx.read_edgelist(filename, nodetype=int, create_using=nx.DiGraph)\n",
    "nx.set_edge_attributes(graph, 1, name='weight')\n",
    "print(graph)\n",
    "\n",
    "print(\"Edges:\", graph.edges)\n",
    "print(\"Unique Node IDs:\", graph.nodes)"
   ]
  },
  {
   "cell_type": "code",
   "execution_count": null,
   "metadata": {
    "id": "ZXji37fVRdfv"
   },
   "outputs": [],
   "source": [
    "#funzione per il neighbor\n",
    "def n(v, edges):\n",
    "    neighbors = set()\n",
    "    for edge in edges:\n",
    "        if v in edge:\n",
    "            neighbors.update(edge)\n",
    "\n",
    "    neighbors.discard(v)\n",
    "\n",
    "    return list(neighbors)\n",
    "\n",
    "#Bron-Kerbosch algorithm with pivot\n",
    "def BronKerbosch(R, P, X, edges, cliques):\n",
    "    if not P and not X:\n",
    "        # P and X are both empty, report R as a maximal clique\n",
    "        cliques.append(R)\n",
    "        return\n",
    "\n",
    "    # Choose a pivot vertex u in P ⋃ X\n",
    "    pivot = (set(P) | set(X)).pop()\n",
    "\n",
    "    for v in set(P) - set(n(pivot, edges)):\n",
    "        # Recursively explore the neighborhood of v\n",
    "        BronKerbosch(R + [v], list(set(P) & set(n(v, edges))), list(set(X) & set(n(v, edges))), edges, cliques)\n",
    "\n",
    "        # Remove v from P and add it to X\n",
    "        P.remove(v)\n",
    "        X.append(v)\n",
    "\n",
    "#funzione per la clique massima\n",
    "def maxClique(cliques):\n",
    "    return max(cliques, key=len, default=[])\n",
    "\n",
    "#Ricerca e stampa le cliques e la clique massima\n",
    "all_cliques = []\n",
    "node_cliques = []\n",
    "selected_node = 10\n",
    "BronKerbosch([], list(graph.nodes), [], graph.edges, all_cliques)\n",
    "print(\"Cliques:\")\n",
    "for clique in all_cliques:\n",
    "    if selected_node in clique:\n",
    "        node_cliques.append(clique)\n",
    "\n",
    "print(node_cliques)\n",
    "\n",
    "print(\"Maximum Clique:\", maxClique(node_cliques))"
   ]
  },
  {
   "cell_type": "code",
   "execution_count": null,
   "metadata": {
    "id": "KW3YjSXMRdfw"
   },
   "outputs": [],
   "source": [
    "#Clustering global cc\n",
    "average_cluster_coef = nx.average_clustering(graph)\n",
    "\n",
    "print(f\"Coefficiente di clustering medio: {average_cluster_coef}\")\n",
    "\n",
    "\n",
    "\n",
    "#Clustering per ogni nodo (restituisce un dizionario)\n",
    "node_cluster_coefs = nx.clustering(graph)\n",
    "\n",
    "for node, cluster_coef in node_cluster_coefs.items():\n",
    "    print(f\"Nodo {node}: Coefficiente di clustering = {cluster_coef}\")\n"
   ]
  },
  {
   "cell_type": "code",
   "execution_count": null,
   "metadata": {
    "id": "DYpmaXHJRdfw"
   },
   "outputs": [],
   "source": [
    "#node clique with max cc\n",
    "max_cc = 0\n",
    "best_clique = []\n",
    "for clique in node_cliques:\n",
    "    avg_cc = 0;\n",
    "    for node in clique:\n",
    "        avg_cc += node_cluster_coefs[node]\n",
    "\n",
    "    if avg_cc/len(clique) > max_cc:\n",
    "        best_clique = clique\n",
    "\n",
    "print(best_clique)"
   ]
  },
  {
   "cell_type": "code",
   "execution_count": null,
   "metadata": {
    "id": "eMlb6EQpRdfw"
   },
   "outputs": [],
   "source": [
    "#Tentativi con rimozioni casuali\n",
    "import random\n",
    "\n",
    "# Numero di nodi da rimuovere ad ogni iterazione\n",
    "n_nodes_to_remove = 1\n",
    "\n",
    "# Numero totale di iterazioni\n",
    "n_iterations = 10\n",
    "\n",
    "# Copia del grafo iniziale\n",
    "graph_to_modify = full_graph.copy()\n",
    "\n",
    "for iteration in range(n_iterations):\n",
    "    # Rimuovi n nodi casuali dal grafo\n",
    "    nodes_to_remove = random.sample(list(graph_to_modify.nodes()), n_nodes_to_remove)\n",
    "    updated_graph = graph_to_modify.copy()\n",
    "    updated_graph.remove_nodes_from(nodes_to_remove)\n",
    "\n",
    "    # Stampa o elabora i risultati desiderati\n",
    "    print(f\"Iteration {iteration + 1}: Removed nodes {nodes_to_remove}\")\n",
    "\n",
    "    # Aggiorna il grafo originale per la prossima iterazione\n",
    "    original_graph = updated_graph.copy()\n"
   ]
  }
 ],
 "metadata": {
  "colab": {
   "provenance": []
  },
  "kernelspec": {
   "display_name": "Python 3 (ipykernel)",
   "language": "python",
   "name": "python3"
  },
  "language_info": {
   "codemirror_mode": {
    "name": "ipython",
    "version": 3
   },
   "file_extension": ".py",
   "mimetype": "text/x-python",
   "name": "python",
   "nbconvert_exporter": "python",
   "pygments_lexer": "ipython3",
   "version": "3.9.12"
  }
 },
 "nbformat": 4,
 "nbformat_minor": 1
}
